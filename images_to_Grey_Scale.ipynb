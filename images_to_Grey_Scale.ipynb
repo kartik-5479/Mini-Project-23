{
  "nbformat": 4,
  "nbformat_minor": 0,
  "metadata": {
    "colab": {
      "provenance": [],
      "authorship_tag": "ABX9TyP5FfKKnz3lbvivvVCsKm92",
      "include_colab_link": true
    },
    "kernelspec": {
      "name": "python3",
      "display_name": "Python 3"
    },
    "language_info": {
      "name": "python"
    }
  },
  "cells": [
    {
      "cell_type": "markdown",
      "metadata": {
        "id": "view-in-github",
        "colab_type": "text"
      },
      "source": [
        "<a href=\"https://colab.research.google.com/github/kartik-5479/Mini-Project-23/blob/main/images_to_Grey_Scale.ipynb\" target=\"_parent\"><img src=\"https://colab.research.google.com/assets/colab-badge.svg\" alt=\"Open In Colab\"/></a>"
      ]
    },
    {
      "cell_type": "code",
      "execution_count": 1,
      "metadata": {
        "colab": {
          "base_uri": "https://localhost:8080/"
        },
        "id": "daZ3Ld_ejruZ",
        "outputId": "750f5c7e-b273-4c58-85a2-4b56900be15a"
      },
      "outputs": [
        {
          "output_type": "stream",
          "name": "stdout",
          "text": [
            "80 sample colored images saved to 'sample_colored_images' folder.\n"
          ]
        }
      ],
      "source": [
        "from skimage import data\n",
        "import imageio\n",
        "import os\n",
        "\n",
        "images = [\n",
        "    data.astronaut(), data.chelsea(), data.coffee(),\n",
        "    data.rocket(), data.hubble_deep_field()\n",
        "]\n",
        "\n",
        "output_dir = 'sample_colored_images'\n",
        "os.makedirs(output_dir, exist_ok=True)\n",
        "\n",
        "# Save each image multiple times to reach 80 images\n",
        "for i in range(80):\n",
        "    img = images[i % len(images)]\n",
        "    imageio.imwrite(f\"{output_dir}/image_{i+1:03}.jpg\", img)\n",
        "\n",
        "print(f\"80 sample colored images saved to '{output_dir}' folder.\")"
      ]
    },
    {
      "cell_type": "code",
      "source": [
        "# Step 1: Mount Google Drive\n",
        "from google.colab import drive\n",
        "drive.mount('/content/drive')"
      ],
      "metadata": {
        "colab": {
          "base_uri": "https://localhost:8080/"
        },
        "id": "JAM3U8Egli7X",
        "outputId": "e765a76a-f387-411b-eb6c-fe78329f86b2"
      },
      "execution_count": 4,
      "outputs": [
        {
          "output_type": "stream",
          "name": "stdout",
          "text": [
            "Mounted at /content/drive\n"
          ]
        }
      ]
    },
    {
      "cell_type": "code",
      "source": [
        "# Step 2: Import Libraries\n",
        "import cv2\n",
        "import os\n",
        "from tqdm import tqdm\n",
        "import shutil\n",
        "\n",
        "# Step 3: Set Paths\n",
        "# Change this to the folder path in your Google Drive where the images are stored\n",
        "input_folder = \"/content/sample_colored_images\"\n",
        "output_folder = \"/content/black and white\"\n",
        "\n",
        "# Create output folder if it doesn't exist\n",
        "if os.path.exists(output_folder):\n",
        "    shutil.rmtree(output_folder)\n",
        "os.makedirs(output_folder)\n",
        "\n",
        "# Step 4: Convert Images to Grayscale\n",
        "image_files = [f for f in os.listdir(input_folder) if f.lower().endswith(('.png', '.jpg', '.jpeg'))]\n",
        "\n",
        "for img_name in tqdm(image_files, desc=\"Converting to Grayscale\"):\n",
        "    img_path = os.path.join(input_folder, img_name)\n",
        "    img = cv2.imread(img_path)\n",
        "    if img is None:\n",
        "        continue\n",
        "    gray = cv2.cvtColor(img, cv2.COLOR_BGR2GRAY)\n",
        "    cv2.imwrite(os.path.join(output_folder, img_name), gray)\n",
        "\n",
        "print(\"✅ All images converted and saved to:\", output_folder)\n"
      ],
      "metadata": {
        "colab": {
          "base_uri": "https://localhost:8080/"
        },
        "id": "c4jPUUgOl-q4",
        "outputId": "ede09845-7f72-491e-dcb1-4ef2190de0d0"
      },
      "execution_count": 7,
      "outputs": [
        {
          "output_type": "stream",
          "name": "stderr",
          "text": [
            "Converting to Grayscale: 100%|██████████| 80/80 [00:00<00:00, 200.90it/s]"
          ]
        },
        {
          "output_type": "stream",
          "name": "stdout",
          "text": [
            "✅ All images converted and saved to: /content/black and white\n"
          ]
        },
        {
          "output_type": "stream",
          "name": "stderr",
          "text": [
            "\n"
          ]
        }
      ]
    }
  ]
}